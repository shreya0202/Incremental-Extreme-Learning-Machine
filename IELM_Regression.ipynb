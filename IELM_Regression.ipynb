{
  "nbformat": 4,
  "nbformat_minor": 0,
  "metadata": {
    "colab": {
      "name": "IELM_Regression.ipynb",
      "provenance": [],
      "include_colab_link": true
    },
    "kernelspec": {
      "name": "python3",
      "display_name": "Python 3"
    },
    "accelerator": "GPU"
  },
  "cells": [
    {
      "cell_type": "markdown",
      "metadata": {
        "id": "view-in-github",
        "colab_type": "text"
      },
      "source": [
        "<a href=\"https://colab.research.google.com/github/shreya0202/Incremental-Extreme-Learning-Machine/blob/main/IELM_Regression.ipynb\" target=\"_parent\"><img src=\"https://colab.research.google.com/assets/colab-badge.svg\" alt=\"Open In Colab\"/></a>"
      ]
    },
    {
      "cell_type": "code",
      "metadata": {
        "id": "qSho-c_WPx0V"
      },
      "source": [
        "import numpy as np\n",
        "import scipy\n",
        "from matplotlib import pyplot as plt\n",
        "import pandas as pd\n",
        "import random\n",
        "import time\n",
        "import math\n",
        "import csv\n",
        "from sklearn.model_selection import train_test_split\n",
        "from sklearn.metrics import mean_squared_error\n",
        "from sklearn import preprocessing\n",
        "from sklearn.preprocessing import Normalizer"
      ],
      "execution_count": null,
      "outputs": []
    },
    {
      "cell_type": "code",
      "metadata": {
        "id": "WPBQBTGERPMW"
      },
      "source": [
        "# Training Function\n",
        "def model_training(x_train, y_train):\n",
        "  init_wt = []\n",
        "  beta_wt_list = []\n",
        "  nodes = []\n",
        "  rmses_ = []\n",
        "  random_zeroes = np.zeros((len(y_train), len(np.transpose(y_train))))\n",
        "  rmse_score = np.round(math.sqrt(mean_squared_error(y_train, random_zeroes)), 2)\n",
        "  print(\"\\n\\n----------Training----------\")\n",
        "  start_time = time.time()\n",
        "  random_nodes = 0\n",
        "  while (rmse_score > 10 and random_nodes < 80):\n",
        "      random_nodes += 1\n",
        "      nodes.append(random_nodes)\n",
        "      print(\"The added hidden node is = {}\".format(random_nodes))  \n",
        "      a = np.random.rand(len(np.transpose(x_train)), 1)\n",
        "      if(random_nodes == 1):\n",
        "          init_wt = a\n",
        "      else:    \n",
        "          init_wt = np.hstack((init_wt, a))\n",
        " \n",
        "      H = np.dot(x_train, init_wt)\n",
        "\n",
        "      for i in H:\n",
        "          for j in i:\n",
        "              # Softmax Activation\n",
        "              ex = np.exp(j - np.max(j))\n",
        "              j =  np.round(ex / ex.sum(), 4)\n",
        "   \n",
        "      inverse_H = np.linalg.pinv(H)\n",
        "      beta_wt = np.dot(inverse_H, y_train)\n",
        "      beta_wt_list = beta_wt\n",
        "      y_out = np.dot(H, beta_wt)\n",
        "      predicted_y = np.transpose(y_out)[0]\n",
        "      actual_y = np.transpose(y_train)[0]\n",
        "      rmse_sc = np.round(math.sqrt(mean_squared_error(actual_y, predicted_y)), 2)\n",
        "      rmses_.append(rmse_sc)\n",
        "      if(random_nodes%10 == 0):\n",
        "          print(\"\\nFor {} hidden-nodes the train rmses is : {}\\n\".format(random_nodes, rmse_sc))\n",
        "      \n",
        "  stop_time = time.time()\n",
        "  print(\"\\nTotal hidden nodes at the end is: {}\".format(random_nodes))\n",
        "  print(\"\\nTraining time: {} seconds\".format(np.round((stop_time - start_time), 3)))\n",
        "\n",
        "  visualize(nodes, rmses_)\n",
        "\n",
        "  return init_wt, random_nodes"
      ],
      "execution_count": null,
      "outputs": []
    },
    {
      "cell_type": "code",
      "metadata": {
        "id": "jf0YIzqqToBw"
      },
      "source": [
        "# Visualization of RMSEs\n",
        "def visualize(hnode, rmse):\n",
        "  import matplotlib.pyplot as plt\n",
        "  x_s = hnode \n",
        "  y_s = rmse\n",
        "\n",
        "  plt.plot(x_s, y_s, '-b', label='Train RMSEs')\n",
        "  plt.legend(loc='upper right')\n",
        "  plt.xlabel(\"Number of Hidden Nodes\")\n",
        "  plt.ylabel(\"Training RMSEs\")\n",
        "  plt.show()"
      ],
      "execution_count": null,
      "outputs": []
    },
    {
      "cell_type": "code",
      "metadata": {
        "id": "HDzsiBi8Tx4k"
      },
      "source": [
        "# Testing Function\n",
        "def model_testing(x_test, y_test, init_wt, random_nodes):\n",
        "  print(\"\\n\\n----------Testing----------\")\n",
        "  start_test_time = time.time()\n",
        "  h_nodes = random_nodes\n",
        "  a_test = init_wt\n",
        "  H_test = np.dot(x_test, a_test)\n",
        "\n",
        "  for i in H_test:\n",
        "      for j in i:\n",
        "          # Softmax Activation\n",
        "          ex = np.exp(j - np.max(j))\n",
        "          j =  np.round(ex / ex.sum(), 4)\n",
        "              \n",
        "  H_test_inv = np.linalg.pinv(H_test)\n",
        "  beta_test = np.dot(H_test_inv, y_test)\n",
        "  predicted_test_y = np.dot(H_test, beta_test)\n",
        "  rmse_score = np.round(math.sqrt(mean_squared_error(y_test, predicted_test_y)), 2)\n",
        "  print(\"\\nFor {} hidden-nodes test rmse is: {}\".format(random_nodes, rmse_score))\n",
        "  stop_test_time = time.time()\n",
        "  print(\"\\nTesting time: {} seconds\".format(np.round((stop_test_time - start_test_time), 3)))"
      ],
      "execution_count": null,
      "outputs": []
    },
    {
      "cell_type": "code",
      "metadata": {
        "id": "Aw9cPC5xQO_v"
      },
      "source": [
        "def main():\n",
        "  # Read csv file into dataframe\n",
        "  data = pd.read_csv('/content/drive/My Drive/supercon_temp.csv')\n",
        "  # Seperating target and input data\n",
        "  input_data = data.iloc[:, :-1]\n",
        "  target_data = data.iloc[:, -1]\n",
        "  # Normalizing data\n",
        "  norm = Normalizer()\n",
        "  input = norm.fit_transform(input_data)\n",
        "  # Convert input and output dataframes to lists\n",
        "  x = input.tolist()\n",
        "  print(np.shape(x))\n",
        "  y = target_data.values.tolist()\n",
        "  print(np.shape(y))\n",
        "  y = np.reshape(y, (len(y), 1))\n",
        "  print(np.shape(y))\n",
        "  x_train, x_test, y_train, y_test = train_test_split(x, y, test_size=0.3)\n",
        "  init_wts, random_nodes = model_training(x_train, y_train)\n",
        "  print()\n",
        "  model_testing(x_test, y_test, init_wts, random_nodes)"
      ],
      "execution_count": null,
      "outputs": []
    },
    {
      "cell_type": "code",
      "metadata": {
        "id": "TGVdHf9xVg9q",
        "outputId": "69e09ba4-b4b7-4f48-9b24-c0d99dd8f136",
        "colab": {
          "base_uri": "https://localhost:8080/",
          "height": 1000
        }
      },
      "source": [
        "main()"
      ],
      "execution_count": null,
      "outputs": [
        {
          "output_type": "stream",
          "text": [
            "(21263, 81)\n",
            "(21263,)\n",
            "(21263, 1)\n",
            "\n",
            "\n",
            "----------Training----------\n",
            "The added hidden node is = 1\n",
            "The added hidden node is = 2\n",
            "The added hidden node is = 3\n",
            "The added hidden node is = 4\n",
            "The added hidden node is = 5\n",
            "The added hidden node is = 6\n",
            "The added hidden node is = 7\n",
            "The added hidden node is = 8\n",
            "The added hidden node is = 9\n",
            "The added hidden node is = 10\n",
            "\n",
            "For 10 hidden-nodes the train rmses is : 25.5\n",
            "\n",
            "The added hidden node is = 11\n",
            "The added hidden node is = 12\n",
            "The added hidden node is = 13\n",
            "The added hidden node is = 14\n",
            "The added hidden node is = 15\n",
            "The added hidden node is = 16\n",
            "The added hidden node is = 17\n",
            "The added hidden node is = 18\n",
            "The added hidden node is = 19\n",
            "The added hidden node is = 20\n",
            "\n",
            "For 20 hidden-nodes the train rmses is : 22.41\n",
            "\n",
            "The added hidden node is = 21\n",
            "The added hidden node is = 22\n",
            "The added hidden node is = 23\n",
            "The added hidden node is = 24\n",
            "The added hidden node is = 25\n",
            "The added hidden node is = 26\n",
            "The added hidden node is = 27\n",
            "The added hidden node is = 28\n",
            "The added hidden node is = 29\n",
            "The added hidden node is = 30\n",
            "\n",
            "For 30 hidden-nodes the train rmses is : 21.77\n",
            "\n",
            "The added hidden node is = 31\n",
            "The added hidden node is = 32\n",
            "The added hidden node is = 33\n",
            "The added hidden node is = 34\n",
            "The added hidden node is = 35\n",
            "The added hidden node is = 36\n",
            "The added hidden node is = 37\n",
            "The added hidden node is = 38\n",
            "The added hidden node is = 39\n",
            "The added hidden node is = 40\n",
            "\n",
            "For 40 hidden-nodes the train rmses is : 20.32\n",
            "\n",
            "The added hidden node is = 41\n",
            "The added hidden node is = 42\n",
            "The added hidden node is = 43\n",
            "The added hidden node is = 44\n",
            "The added hidden node is = 45\n",
            "The added hidden node is = 46\n",
            "The added hidden node is = 47\n",
            "The added hidden node is = 48\n",
            "The added hidden node is = 49\n",
            "The added hidden node is = 50\n",
            "\n",
            "For 50 hidden-nodes the train rmses is : 19.46\n",
            "\n",
            "The added hidden node is = 51\n",
            "The added hidden node is = 52\n",
            "The added hidden node is = 53\n",
            "The added hidden node is = 54\n",
            "The added hidden node is = 55\n",
            "The added hidden node is = 56\n",
            "The added hidden node is = 57\n",
            "The added hidden node is = 58\n",
            "The added hidden node is = 59\n",
            "The added hidden node is = 60\n",
            "\n",
            "For 60 hidden-nodes the train rmses is : 18.82\n",
            "\n",
            "The added hidden node is = 61\n",
            "The added hidden node is = 62\n",
            "The added hidden node is = 63\n",
            "The added hidden node is = 64\n",
            "The added hidden node is = 65\n",
            "The added hidden node is = 66\n",
            "The added hidden node is = 67\n",
            "The added hidden node is = 68\n",
            "The added hidden node is = 69\n",
            "The added hidden node is = 70\n",
            "\n",
            "For 70 hidden-nodes the train rmses is : 18.45\n",
            "\n",
            "The added hidden node is = 71\n",
            "The added hidden node is = 72\n",
            "The added hidden node is = 73\n",
            "The added hidden node is = 74\n",
            "The added hidden node is = 75\n",
            "The added hidden node is = 76\n",
            "The added hidden node is = 77\n",
            "The added hidden node is = 78\n",
            "The added hidden node is = 79\n",
            "The added hidden node is = 80\n",
            "\n",
            "For 80 hidden-nodes the train rmses is : 18.29\n",
            "\n",
            "\n",
            "Total hidden nodes at the end is: 80\n",
            "\n",
            "Training time: 776.45 seconds\n"
          ],
          "name": "stdout"
        },
        {
          "output_type": "display_data",
          "data": {
            "image/png": "[encoded data removed]",
            "text/plain": [
              "<Figure size 432x288 with 1 Axes>"
            ]
          },
          "metadata": {
            "tags": [],
            "needs_background": "light"
          }
        },
        {
          "output_type": "stream",
          "text": [
            "\n",
            "\n",
            "\n",
            "----------Testing----------\n",
            "\n",
            "For 80 hidden-nodes test rmse is: 18.08\n",
            "\n",
            "Testing time: 8.398 seconds\n"
          ],
          "name": "stdout"
        }
      ]
    }
  ]
}