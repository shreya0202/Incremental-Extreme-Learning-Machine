{
  "nbformat": 4,
  "nbformat_minor": 0,
  "metadata": {
    "colab": {
      "name": "IEML_Classification.ipynb",
      "provenance": [],
      "include_colab_link": true
    },
    "kernelspec": {
      "name": "python3",
      "display_name": "Python 3"
    },
    "accelerator": "GPU"
  },
  "cells": [
    {
      "cell_type": "markdown",
      "metadata": {
        "id": "view-in-github",
        "colab_type": "text"
      },
      "source": [
        "<a href=\"https://colab.research.google.com/github/shreya0202/Incremental-Extreme-Learning-Machine/blob/main/IEML_Classification.ipynb\" target=\"_parent\"><img src=\"https://colab.research.google.com/assets/colab-badge.svg\" alt=\"Open In Colab\"/></a>"
      ]
    },
    {
      "cell_type": "code",
      "metadata": {
        "id": "BGVXy4OUNksu"
      },
      "source": [
        "import numpy as np\n",
        "from matplotlib import pyplot as plt\n",
        "import pandas as pd\n",
        "import random\n",
        "from mlxtend.data import loadlocal_mnist\n",
        "import time\n",
        "import math\n",
        "from numpy.matlib import repmat\n",
        "from sklearn import preprocessing\n",
        "from sklearn.preprocessing import LabelBinarizer"
      ],
      "execution_count": null,
      "outputs": []
    },
    {
      "cell_type": "code",
      "metadata": {
        "id": "CDvSq62PPrIG"
      },
      "source": [
        "# Loading MNIST data\n",
        "x_train, y_train = loadlocal_mnist(images_path=\"/content/drive/My Drive/mnist dataset/train-images.idx3-ubyte\", labels_path=\"/content/drive/My Drive/mnist dataset/train-labels.idx1-ubyte\")\n",
        "lb = LabelBinarizer()\n",
        "y_train_transformed = lb.fit_transform(y_train)\n",
        "x_test, y_test = loadlocal_mnist(images_path=\"/content/drive/My Drive/mnist dataset/t10k-images.idx3-ubyte\", labels_path=\"/content/drive/My Drive/mnist dataset/t10k-labels.idx1-ubyte\")\n",
        "y_test_transformed = lb.fit_transform(y_test)"
      ],
      "execution_count": null,
      "outputs": []
    },
    {
      "cell_type": "code",
      "metadata": {
        "id": "gRg1MDtToTE4",
        "outputId": "2cb5f489-0b53-434e-f688-a1e75830cb50",
        "colab": {
          "base_uri": "https://localhost:8080/",
          "height": 354
        }
      },
      "source": [
        "# Visualize sample data\n",
        "print(\"\\n Target number: {}\".format(y_train[3000]))\n",
        "pxl = np.reshape(x_train[3000], (28,28))\n",
        "plt.imshow(pxl)\n",
        "print(\"\\n Input number: \\n\")\n",
        "plt.show()"
      ],
      "execution_count": null,
      "outputs": [
        {
          "output_type": "stream",
          "text": [
            "\n",
            " Target number: 9\n",
            "\n",
            " Input number: \n",
            "\n"
          ],
          "name": "stdout"
        },
        {
          "output_type": "display_data",
          "data": {
            "image/png": "[encoded data removed]",
            "text/plain": [
              "<Figure size 432x288 with 1 Axes>"
            ]
          },
          "metadata": {
            "tags": [],
            "needs_background": "light"
          }
        }
      ]
    },
    {
      "cell_type": "code",
      "metadata": {
        "id": "PtuHdRBLU-UM"
      },
      "source": [
        "# Visualization of accuracies\n",
        "def visualize(hnode, acc):\n",
        "  import matplotlib.pyplot as plt\n",
        "  x_s = hnode \n",
        "  y_s = acc\n",
        "\n",
        "  plt.plot(x_s, y_s, '-b', label='Train Accuracies')\n",
        "  plt.legend(loc='lower right')\n",
        "  plt.xlabel(\"Number of Hidden Nodes\")\n",
        "  plt.ylabel(\"Training Accuracies\")\n",
        "  plt.show()"
      ],
      "execution_count": null,
      "outputs": []
    },
    {
      "cell_type": "code",
      "metadata": {
        "id": "QDbhtqZQTS_0"
      },
      "source": [
        "# Training Function\n",
        "def model_training():\n",
        "  init_wt = [] \n",
        "  beta_wt_list = [] \n",
        "  accuracy_ = 0 \n",
        "  nodes = []\n",
        "  accuracies = []\n",
        "  random_nodes = 0\n",
        "  print(\"\\n\\n----------Training----------\")\n",
        "  start_time = time.time() # Initializing start time\n",
        "  while (accuracy_ < 100 and random_nodes < 150):\n",
        "      random_nodes += 1 # Adding random hidden node\n",
        "      nodes.append(random_nodes)\n",
        "      print(\"The added hidden node is = {}\".format(random_nodes))   \n",
        "      rand_wt = np.random.rand(len(np.transpose(x_train)), 1) #random wt initialized\n",
        "      if (random_nodes == 1):\n",
        "          init_wt = rand_wt\n",
        "      else:    \n",
        "          init_wt = np.hstack((init_wt, rand_wt)) # stacking the sequence of input arrays into single weight array\n",
        "\n",
        "      H = np.dot(x_train, init_wt)\n",
        "      \n",
        "      for h in H:\n",
        "          for j in h:\n",
        "              # Softmax activation\n",
        "              ex = np.exp(j - np.max(j))\n",
        "              j =  np.round(ex / ex.sum(), 4)\n",
        "          \n",
        "      inverse_H = np.linalg.pinv(H) # Linear algebra pseudo inverse of matrix\n",
        "      beta_wt = np.dot(inverse_H, y_train_transformed)\n",
        "      beta_wt_list = beta_wt\n",
        "      predicted_y = np.dot(H, beta_wt)\n",
        "      inv_y = lb.inverse_transform(predicted_y)\n",
        "      correct_predictions = 0\n",
        "      total_predictions = len(x_train)\n",
        "      inv_transform_test = lb.inverse_transform(y_train_transformed)\n",
        "      \n",
        "      for i in range(len(y_train)):\n",
        "          if(inv_transform_test[i] == inv_y[i]):\n",
        "              correct_predictions += 1\n",
        "      # Accuracy Calculated       \n",
        "      accuracy_ = np.round((correct_predictions/total_predictions) * 100, 2)\n",
        "      \n",
        "      accuracies.append(accuracy_)\n",
        "      \n",
        "      if(random_nodes%10 == 0):\n",
        "          print(\"\\n For {} hidden-nodes the training classification accuracy is: {}%\\n\".format(random_nodes, accuracy_))\n",
        "    \n",
        "  stop_time = time.time()\n",
        "  print(\"\\nTotal hidden nodes at the end is: {}\".format(random_nodes))\n",
        "  print(\"\\nTraining time: {} seconds\".format(np.round((stop_time - start_time), 3)))\n",
        "  \n",
        "  visualize(nodes, accuracies)\n",
        "\n",
        "  return init_wt, random_nodes"
      ],
      "execution_count": null,
      "outputs": []
    },
    {
      "cell_type": "code",
      "metadata": {
        "id": "S5yJWAkTmFSw"
      },
      "source": [
        "# Testing Function\n",
        "def model_testing(init_wts, random_nodes):\n",
        "  print(\"\\n\\n----------Testing----------\")\n",
        "  start_test_time = time.time()\n",
        "  h_nodes = random_nodes\n",
        "  a_test = init_wts\n",
        "  H_test = np.dot(x_test, a_test)\n",
        "\n",
        "  for h in H_test:\n",
        "      for j in h:\n",
        "          # Softmax Activation\n",
        "          ex = np.exp(j - np.max(j))\n",
        "          j =  np.round(ex / ex.sum(), 4)\n",
        "              \n",
        "  inverse_test_H = np.linalg.pinv(H_test)\n",
        "  beta_test = np.dot(inverse_test_H, y_test_transformed)\n",
        "  predicted_test_y = np.dot(H_test, beta_test)\n",
        "  inverse_y_test = lb.inverse_transform(predicted_test_y)\n",
        "  correct_predictions = 0\n",
        "  total_predictions = len(x_test)\n",
        "  inv_transform_test = lb.inverse_transform(y_test_transformed)\n",
        "\n",
        "  for i in range(len(y_test)):\n",
        "      if(inv_transform_test[i] == inverse_y_test[i]):\n",
        "          correct_predictions += 1\n",
        "  # Accuracy calculated            \n",
        "  accuracy_ = np.round((correct_predictions/total_predictions) * 100, 2)\n",
        "\n",
        "  stop_test_time = time.time()\n",
        "\n",
        "  print(\"For {} hidden-nodes the testing classification accuracy : {}%\".format(h_nodes, accuracy_))\n",
        "  print(\"\\nTesting time: {} seconds\".format(np.round((stop_test_time - start_test_time), 3)))"
      ],
      "execution_count": null,
      "outputs": []
    },
    {
      "cell_type": "code",
      "metadata": {
        "id": "JtyBA14hbnM0"
      },
      "source": [
        "def main():\n",
        "  init_wts, random_nodes = model_training()\n",
        "  print()\n",
        "  model_testing(init_wts, random_nodes)"
      ],
      "execution_count": null,
      "outputs": []
    },
    {
      "cell_type": "code",
      "metadata": {
        "id": "A9gnPq1-cU77",
        "outputId": "2fd96afd-f3a8-4684-9e99-e77085297cb6",
        "colab": {
          "base_uri": "https://localhost:8080/",
          "height": 1000
        }
      },
      "source": [
        "main()"
      ],
      "execution_count": null,
      "outputs": [
        {
          "output_type": "stream",
          "text": [
            "\n",
            "\n",
            "----------Training----------\n",
            "The added hidden node is = 1\n",
            "The added hidden node is = 2\n",
            "The added hidden node is = 3\n",
            "The added hidden node is = 4\n",
            "The added hidden node is = 5\n",
            "The added hidden node is = 6\n",
            "The added hidden node is = 7\n",
            "The added hidden node is = 8\n",
            "The added hidden node is = 9\n",
            "The added hidden node is = 10\n",
            "\n",
            " For 10 hidden-nodes the training classification accuracy is: 47.31%\n",
            "\n",
            "The added hidden node is = 11\n",
            "The added hidden node is = 12\n",
            "The added hidden node is = 13\n",
            "The added hidden node is = 14\n",
            "The added hidden node is = 15\n",
            "The added hidden node is = 16\n",
            "The added hidden node is = 17\n",
            "The added hidden node is = 18\n",
            "The added hidden node is = 19\n",
            "The added hidden node is = 20\n",
            "\n",
            " For 20 hidden-nodes the training classification accuracy is: 61.54%\n",
            "\n",
            "The added hidden node is = 21\n",
            "The added hidden node is = 22\n",
            "The added hidden node is = 23\n",
            "The added hidden node is = 24\n",
            "The added hidden node is = 25\n",
            "The added hidden node is = 26\n",
            "The added hidden node is = 27\n",
            "The added hidden node is = 28\n",
            "The added hidden node is = 29\n",
            "The added hidden node is = 30\n",
            "\n",
            " For 30 hidden-nodes the training classification accuracy is: 68.07%\n",
            "\n",
            "The added hidden node is = 31\n",
            "The added hidden node is = 32\n",
            "The added hidden node is = 33\n",
            "The added hidden node is = 34\n",
            "The added hidden node is = 35\n",
            "The added hidden node is = 36\n",
            "The added hidden node is = 37\n",
            "The added hidden node is = 38\n",
            "The added hidden node is = 39\n",
            "The added hidden node is = 40\n",
            "\n",
            " For 40 hidden-nodes the training classification accuracy is: 71.43%\n",
            "\n",
            "The added hidden node is = 41\n",
            "The added hidden node is = 42\n",
            "The added hidden node is = 43\n",
            "The added hidden node is = 44\n",
            "The added hidden node is = 45\n",
            "The added hidden node is = 46\n",
            "The added hidden node is = 47\n",
            "The added hidden node is = 48\n",
            "The added hidden node is = 49\n",
            "The added hidden node is = 50\n",
            "\n",
            " For 50 hidden-nodes the training classification accuracy is: 75.28%\n",
            "\n",
            "The added hidden node is = 51\n",
            "The added hidden node is = 52\n",
            "The added hidden node is = 53\n",
            "The added hidden node is = 54\n",
            "The added hidden node is = 55\n",
            "The added hidden node is = 56\n",
            "The added hidden node is = 57\n",
            "The added hidden node is = 58\n",
            "The added hidden node is = 59\n",
            "The added hidden node is = 60\n",
            "\n",
            " For 60 hidden-nodes the training classification accuracy is: 77.62%\n",
            "\n",
            "The added hidden node is = 61\n",
            "The added hidden node is = 62\n",
            "The added hidden node is = 63\n",
            "The added hidden node is = 64\n",
            "The added hidden node is = 65\n",
            "The added hidden node is = 66\n",
            "The added hidden node is = 67\n",
            "The added hidden node is = 68\n",
            "The added hidden node is = 69\n",
            "The added hidden node is = 70\n",
            "\n",
            " For 70 hidden-nodes the training classification accuracy is: 79.09%\n",
            "\n",
            "The added hidden node is = 71\n",
            "The added hidden node is = 72\n",
            "The added hidden node is = 73\n",
            "The added hidden node is = 74\n",
            "The added hidden node is = 75\n",
            "The added hidden node is = 76\n",
            "The added hidden node is = 77\n",
            "The added hidden node is = 78\n",
            "The added hidden node is = 79\n",
            "The added hidden node is = 80\n",
            "\n",
            " For 80 hidden-nodes the training classification accuracy is: 80.57%\n",
            "\n",
            "The added hidden node is = 81\n",
            "The added hidden node is = 82\n",
            "The added hidden node is = 83\n",
            "The added hidden node is = 84\n",
            "The added hidden node is = 85\n",
            "The added hidden node is = 86\n",
            "The added hidden node is = 87\n",
            "The added hidden node is = 88\n",
            "The added hidden node is = 89\n",
            "The added hidden node is = 90\n",
            "\n",
            " For 90 hidden-nodes the training classification accuracy is: 81.57%\n",
            "\n",
            "The added hidden node is = 91\n",
            "The added hidden node is = 92\n",
            "The added hidden node is = 93\n",
            "The added hidden node is = 94\n",
            "The added hidden node is = 95\n",
            "The added hidden node is = 96\n",
            "The added hidden node is = 97\n",
            "The added hidden node is = 98\n",
            "The added hidden node is = 99\n",
            "The added hidden node is = 100\n",
            "\n",
            " For 100 hidden-nodes the training classification accuracy is: 82.31%\n",
            "\n",
            "The added hidden node is = 101\n",
            "The added hidden node is = 102\n",
            "The added hidden node is = 103\n",
            "The added hidden node is = 104\n",
            "The added hidden node is = 105\n",
            "The added hidden node is = 106\n",
            "The added hidden node is = 107\n",
            "The added hidden node is = 108\n",
            "The added hidden node is = 109\n",
            "The added hidden node is = 110\n",
            "\n",
            " For 110 hidden-nodes the training classification accuracy is: 82.79%\n",
            "\n",
            "The added hidden node is = 111\n",
            "The added hidden node is = 112\n",
            "The added hidden node is = 113\n",
            "The added hidden node is = 114\n",
            "The added hidden node is = 115\n",
            "The added hidden node is = 116\n",
            "The added hidden node is = 117\n",
            "The added hidden node is = 118\n",
            "The added hidden node is = 119\n",
            "The added hidden node is = 120\n",
            "\n",
            " For 120 hidden-nodes the training classification accuracy is: 83.12%\n",
            "\n",
            "The added hidden node is = 121\n",
            "The added hidden node is = 122\n",
            "The added hidden node is = 123\n",
            "The added hidden node is = 124\n",
            "The added hidden node is = 125\n",
            "The added hidden node is = 126\n",
            "The added hidden node is = 127\n",
            "The added hidden node is = 128\n",
            "The added hidden node is = 129\n",
            "The added hidden node is = 130\n",
            "\n",
            " For 130 hidden-nodes the training classification accuracy is: 83.46%\n",
            "\n",
            "The added hidden node is = 131\n",
            "The added hidden node is = 132\n",
            "The added hidden node is = 133\n",
            "The added hidden node is = 134\n",
            "The added hidden node is = 135\n",
            "The added hidden node is = 136\n",
            "The added hidden node is = 137\n",
            "The added hidden node is = 138\n",
            "The added hidden node is = 139\n",
            "The added hidden node is = 140\n",
            "\n",
            " For 140 hidden-nodes the training classification accuracy is: 83.62%\n",
            "\n",
            "The added hidden node is = 141\n",
            "The added hidden node is = 142\n",
            "The added hidden node is = 143\n",
            "The added hidden node is = 144\n",
            "The added hidden node is = 145\n",
            "The added hidden node is = 146\n",
            "The added hidden node is = 147\n",
            "The added hidden node is = 148\n",
            "The added hidden node is = 149\n",
            "The added hidden node is = 150\n",
            "\n",
            " For 150 hidden-nodes the training classification accuracy is: 83.69%\n",
            "\n",
            "\n",
            "Total hidden nodes at the end is: 150\n",
            "\n",
            "Training time: 10857.544 seconds\n"
          ],
          "name": "stdout"
        },
        {
          "output_type": "display_data",
          "data": {
            "image/png": "[encoded data removed]",
            "text/plain": [
              "<Figure size 432x288 with 1 Axes>"
            ]
          },
          "metadata": {
            "tags": [],
            "needs_background": "light"
          }
        },
        {
          "output_type": "stream",
          "text": [
            "\n",
            "\n",
            "\n",
            "----------Testing----------\n",
            "For 150 hidden-nodes the testing classification accuracy : 85.35%\n",
            "\n",
            "Testing time: 24.11 seconds\n"
          ],
          "name": "stdout"
        }
      ]
    }
  ]
}